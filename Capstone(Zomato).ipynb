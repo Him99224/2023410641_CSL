{
  "cells": [
    {
      "cell_type": "markdown",
      "metadata": {
        "id": "view-in-github",
        "colab_type": "text"
      },
      "source": [
        "<a href=\"https://colab.research.google.com/github/Him99224/2023410641_CSL/blob/main/Capstone(Zomato).ipynb\" target=\"_parent\"><img src=\"https://colab.research.google.com/assets/colab-badge.svg\" alt=\"Open In Colab\"/></a>"
      ]
    },
    {
      "cell_type": "markdown",
      "id": "3319e2e9-6e26-43e8-a7f2-425815783939",
      "metadata": {
        "id": "3319e2e9-6e26-43e8-a7f2-425815783939"
      },
      "source": [
        "# Zomato Dataset"
      ]
    },
    {
      "cell_type": "code",
      "execution_count": null,
      "id": "3de742ee-dcdc-4cfa-9abf-4fefae6007af",
      "metadata": {
        "id": "3de742ee-dcdc-4cfa-9abf-4fefae6007af"
      },
      "outputs": [],
      "source": [
        "import pandas as pd\n",
        "import numpy as np\n",
        "import matplotlib.pyplot as plt\n",
        "import seaborn as sns"
      ]
    },
    {
      "cell_type": "code",
      "execution_count": null,
      "id": "af7f92fe-a6eb-449f-b4ac-db618e17dc8a",
      "metadata": {
        "id": "af7f92fe-a6eb-449f-b4ac-db618e17dc8a"
      },
      "outputs": [],
      "source": [
        "df = pd.read_csv(r\"zomato.csv\", encoding='ISO-8859-1')"
      ]
    },
    {
      "cell_type": "code",
      "execution_count": null,
      "id": "94ef431b-0133-4f43-9513-87f034b0e9b4",
      "metadata": {
        "id": "94ef431b-0133-4f43-9513-87f034b0e9b4",
        "outputId": "853d3fdc-0ad8-4f0b-8556-b08630de9cee"
      },
      "outputs": [
        {
          "data": {
            "text/html": [
              "<div>\n",
              "<style scoped>\n",
              "    .dataframe tbody tr th:only-of-type {\n",
              "        vertical-align: middle;\n",
              "    }\n",
              "\n",
              "    .dataframe tbody tr th {\n",
              "        vertical-align: top;\n",
              "    }\n",
              "\n",
              "    .dataframe thead th {\n",
              "        text-align: right;\n",
              "    }\n",
              "</style>\n",
              "<table border=\"1\" class=\"dataframe\">\n",
              "  <thead>\n",
              "    <tr style=\"text-align: right;\">\n",
              "      <th></th>\n",
              "      <th>Restaurant ID</th>\n",
              "      <th>Restaurant Name</th>\n",
              "      <th>Country Code</th>\n",
              "      <th>City</th>\n",
              "      <th>Address</th>\n",
              "      <th>Locality</th>\n",
              "      <th>Locality Verbose</th>\n",
              "      <th>Longitude</th>\n",
              "      <th>Latitude</th>\n",
              "      <th>Cuisines</th>\n",
              "      <th>...</th>\n",
              "      <th>Currency</th>\n",
              "      <th>Has Table booking</th>\n",
              "      <th>Has Online delivery</th>\n",
              "      <th>Is delivering now</th>\n",
              "      <th>Switch to order menu</th>\n",
              "      <th>Price range</th>\n",
              "      <th>Aggregate rating</th>\n",
              "      <th>Rating color</th>\n",
              "      <th>Rating text</th>\n",
              "      <th>Votes</th>\n",
              "    </tr>\n",
              "  </thead>\n",
              "  <tbody>\n",
              "    <tr>\n",
              "      <th>0</th>\n",
              "      <td>6317637</td>\n",
              "      <td>Le Petit Souffle</td>\n",
              "      <td>162</td>\n",
              "      <td>Makati City</td>\n",
              "      <td>Third Floor, Century City Mall, Kalayaan Avenu...</td>\n",
              "      <td>Century City Mall, Poblacion, Makati City</td>\n",
              "      <td>Century City Mall, Poblacion, Makati City, Mak...</td>\n",
              "      <td>121.027535</td>\n",
              "      <td>14.565443</td>\n",
              "      <td>French, Japanese, Desserts</td>\n",
              "      <td>...</td>\n",
              "      <td>Botswana Pula(P)</td>\n",
              "      <td>Yes</td>\n",
              "      <td>No</td>\n",
              "      <td>No</td>\n",
              "      <td>No</td>\n",
              "      <td>3</td>\n",
              "      <td>4.8</td>\n",
              "      <td>Dark Green</td>\n",
              "      <td>Excellent</td>\n",
              "      <td>314</td>\n",
              "    </tr>\n",
              "    <tr>\n",
              "      <th>1</th>\n",
              "      <td>6304287</td>\n",
              "      <td>Izakaya Kikufuji</td>\n",
              "      <td>162</td>\n",
              "      <td>Makati City</td>\n",
              "      <td>Little Tokyo, 2277 Chino Roces Avenue, Legaspi...</td>\n",
              "      <td>Little Tokyo, Legaspi Village, Makati City</td>\n",
              "      <td>Little Tokyo, Legaspi Village, Makati City, Ma...</td>\n",
              "      <td>121.014101</td>\n",
              "      <td>14.553708</td>\n",
              "      <td>Japanese</td>\n",
              "      <td>...</td>\n",
              "      <td>Botswana Pula(P)</td>\n",
              "      <td>Yes</td>\n",
              "      <td>No</td>\n",
              "      <td>No</td>\n",
              "      <td>No</td>\n",
              "      <td>3</td>\n",
              "      <td>4.5</td>\n",
              "      <td>Dark Green</td>\n",
              "      <td>Excellent</td>\n",
              "      <td>591</td>\n",
              "    </tr>\n",
              "    <tr>\n",
              "      <th>2</th>\n",
              "      <td>6300002</td>\n",
              "      <td>Heat - Edsa Shangri-La</td>\n",
              "      <td>162</td>\n",
              "      <td>Mandaluyong City</td>\n",
              "      <td>Edsa Shangri-La, 1 Garden Way, Ortigas, Mandal...</td>\n",
              "      <td>Edsa Shangri-La, Ortigas, Mandaluyong City</td>\n",
              "      <td>Edsa Shangri-La, Ortigas, Mandaluyong City, Ma...</td>\n",
              "      <td>121.056831</td>\n",
              "      <td>14.581404</td>\n",
              "      <td>Seafood, Asian, Filipino, Indian</td>\n",
              "      <td>...</td>\n",
              "      <td>Botswana Pula(P)</td>\n",
              "      <td>Yes</td>\n",
              "      <td>No</td>\n",
              "      <td>No</td>\n",
              "      <td>No</td>\n",
              "      <td>4</td>\n",
              "      <td>4.4</td>\n",
              "      <td>Green</td>\n",
              "      <td>Very Good</td>\n",
              "      <td>270</td>\n",
              "    </tr>\n",
              "    <tr>\n",
              "      <th>3</th>\n",
              "      <td>6318506</td>\n",
              "      <td>Ooma</td>\n",
              "      <td>162</td>\n",
              "      <td>Mandaluyong City</td>\n",
              "      <td>Third Floor, Mega Fashion Hall, SM Megamall, O...</td>\n",
              "      <td>SM Megamall, Ortigas, Mandaluyong City</td>\n",
              "      <td>SM Megamall, Ortigas, Mandaluyong City, Mandal...</td>\n",
              "      <td>121.056475</td>\n",
              "      <td>14.585318</td>\n",
              "      <td>Japanese, Sushi</td>\n",
              "      <td>...</td>\n",
              "      <td>Botswana Pula(P)</td>\n",
              "      <td>No</td>\n",
              "      <td>No</td>\n",
              "      <td>No</td>\n",
              "      <td>No</td>\n",
              "      <td>4</td>\n",
              "      <td>4.9</td>\n",
              "      <td>Dark Green</td>\n",
              "      <td>Excellent</td>\n",
              "      <td>365</td>\n",
              "    </tr>\n",
              "    <tr>\n",
              "      <th>4</th>\n",
              "      <td>6314302</td>\n",
              "      <td>Sambo Kojin</td>\n",
              "      <td>162</td>\n",
              "      <td>Mandaluyong City</td>\n",
              "      <td>Third Floor, Mega Atrium, SM Megamall, Ortigas...</td>\n",
              "      <td>SM Megamall, Ortigas, Mandaluyong City</td>\n",
              "      <td>SM Megamall, Ortigas, Mandaluyong City, Mandal...</td>\n",
              "      <td>121.057508</td>\n",
              "      <td>14.584450</td>\n",
              "      <td>Japanese, Korean</td>\n",
              "      <td>...</td>\n",
              "      <td>Botswana Pula(P)</td>\n",
              "      <td>Yes</td>\n",
              "      <td>No</td>\n",
              "      <td>No</td>\n",
              "      <td>No</td>\n",
              "      <td>4</td>\n",
              "      <td>4.8</td>\n",
              "      <td>Dark Green</td>\n",
              "      <td>Excellent</td>\n",
              "      <td>229</td>\n",
              "    </tr>\n",
              "  </tbody>\n",
              "</table>\n",
              "<p>5 rows × 21 columns</p>\n",
              "</div>"
            ],
            "text/plain": [
              "   Restaurant ID         Restaurant Name  Country Code              City  \\\n",
              "0        6317637        Le Petit Souffle           162       Makati City   \n",
              "1        6304287        Izakaya Kikufuji           162       Makati City   \n",
              "2        6300002  Heat - Edsa Shangri-La           162  Mandaluyong City   \n",
              "3        6318506                    Ooma           162  Mandaluyong City   \n",
              "4        6314302             Sambo Kojin           162  Mandaluyong City   \n",
              "\n",
              "                                             Address  \\\n",
              "0  Third Floor, Century City Mall, Kalayaan Avenu...   \n",
              "1  Little Tokyo, 2277 Chino Roces Avenue, Legaspi...   \n",
              "2  Edsa Shangri-La, 1 Garden Way, Ortigas, Mandal...   \n",
              "3  Third Floor, Mega Fashion Hall, SM Megamall, O...   \n",
              "4  Third Floor, Mega Atrium, SM Megamall, Ortigas...   \n",
              "\n",
              "                                     Locality  \\\n",
              "0   Century City Mall, Poblacion, Makati City   \n",
              "1  Little Tokyo, Legaspi Village, Makati City   \n",
              "2  Edsa Shangri-La, Ortigas, Mandaluyong City   \n",
              "3      SM Megamall, Ortigas, Mandaluyong City   \n",
              "4      SM Megamall, Ortigas, Mandaluyong City   \n",
              "\n",
              "                                    Locality Verbose   Longitude   Latitude  \\\n",
              "0  Century City Mall, Poblacion, Makati City, Mak...  121.027535  14.565443   \n",
              "1  Little Tokyo, Legaspi Village, Makati City, Ma...  121.014101  14.553708   \n",
              "2  Edsa Shangri-La, Ortigas, Mandaluyong City, Ma...  121.056831  14.581404   \n",
              "3  SM Megamall, Ortigas, Mandaluyong City, Mandal...  121.056475  14.585318   \n",
              "4  SM Megamall, Ortigas, Mandaluyong City, Mandal...  121.057508  14.584450   \n",
              "\n",
              "                           Cuisines  ...          Currency Has Table booking  \\\n",
              "0        French, Japanese, Desserts  ...  Botswana Pula(P)               Yes   \n",
              "1                          Japanese  ...  Botswana Pula(P)               Yes   \n",
              "2  Seafood, Asian, Filipino, Indian  ...  Botswana Pula(P)               Yes   \n",
              "3                   Japanese, Sushi  ...  Botswana Pula(P)                No   \n",
              "4                  Japanese, Korean  ...  Botswana Pula(P)               Yes   \n",
              "\n",
              "  Has Online delivery Is delivering now Switch to order menu Price range  \\\n",
              "0                  No                No                   No           3   \n",
              "1                  No                No                   No           3   \n",
              "2                  No                No                   No           4   \n",
              "3                  No                No                   No           4   \n",
              "4                  No                No                   No           4   \n",
              "\n",
              "   Aggregate rating  Rating color Rating text Votes  \n",
              "0               4.8    Dark Green   Excellent   314  \n",
              "1               4.5    Dark Green   Excellent   591  \n",
              "2               4.4         Green   Very Good   270  \n",
              "3               4.9    Dark Green   Excellent   365  \n",
              "4               4.8    Dark Green   Excellent   229  \n",
              "\n",
              "[5 rows x 21 columns]"
            ]
          },
          "execution_count": 10,
          "metadata": {},
          "output_type": "execute_result"
        }
      ],
      "source": [
        "df.head()"
      ]
    },
    {
      "cell_type": "code",
      "execution_count": null,
      "id": "2911a6c2-1060-4c66-9dd8-6bfc1eb612d9",
      "metadata": {
        "id": "2911a6c2-1060-4c66-9dd8-6bfc1eb612d9",
        "outputId": "ae8850b4-5844-4c4b-c5dc-acd55bd0d33f"
      },
      "outputs": [
        {
          "name": "stdout",
          "output_type": "stream",
          "text": [
            "<class 'pandas.core.frame.DataFrame'>\n",
            "RangeIndex: 9551 entries, 0 to 9550\n",
            "Data columns (total 21 columns):\n",
            " #   Column                Non-Null Count  Dtype  \n",
            "---  ------                --------------  -----  \n",
            " 0   Restaurant ID         9551 non-null   int64  \n",
            " 1   Restaurant Name       9551 non-null   object \n",
            " 2   Country Code          9551 non-null   int64  \n",
            " 3   City                  9551 non-null   object \n",
            " 4   Address               9551 non-null   object \n",
            " 5   Locality              9551 non-null   object \n",
            " 6   Locality Verbose      9551 non-null   object \n",
            " 7   Longitude             9551 non-null   float64\n",
            " 8   Latitude              9551 non-null   float64\n",
            " 9   Cuisines              9542 non-null   object \n",
            " 10  Average Cost for two  9551 non-null   int64  \n",
            " 11  Currency              9551 non-null   object \n",
            " 12  Has Table booking     9551 non-null   object \n",
            " 13  Has Online delivery   9551 non-null   object \n",
            " 14  Is delivering now     9551 non-null   object \n",
            " 15  Switch to order menu  9551 non-null   object \n",
            " 16  Price range           9551 non-null   int64  \n",
            " 17  Aggregate rating      9551 non-null   float64\n",
            " 18  Rating color          9551 non-null   object \n",
            " 19  Rating text           9551 non-null   object \n",
            " 20  Votes                 9551 non-null   int64  \n",
            "dtypes: float64(3), int64(5), object(13)\n",
            "memory usage: 1.5+ MB\n"
          ]
        }
      ],
      "source": [
        "df.info()"
      ]
    },
    {
      "cell_type": "code",
      "execution_count": null,
      "id": "c352c4db-88da-429e-a0a1-a577bd0b5d4e",
      "metadata": {
        "id": "c352c4db-88da-429e-a0a1-a577bd0b5d4e",
        "outputId": "eedf4061-07f4-4e68-90e3-91cd31159f2c"
      },
      "outputs": [
        {
          "data": {
            "text/html": [
              "<div>\n",
              "<style scoped>\n",
              "    .dataframe tbody tr th:only-of-type {\n",
              "        vertical-align: middle;\n",
              "    }\n",
              "\n",
              "    .dataframe tbody tr th {\n",
              "        vertical-align: top;\n",
              "    }\n",
              "\n",
              "    .dataframe thead th {\n",
              "        text-align: right;\n",
              "    }\n",
              "</style>\n",
              "<table border=\"1\" class=\"dataframe\">\n",
              "  <thead>\n",
              "    <tr style=\"text-align: right;\">\n",
              "      <th></th>\n",
              "      <th>Restaurant ID</th>\n",
              "      <th>Country Code</th>\n",
              "      <th>Longitude</th>\n",
              "      <th>Latitude</th>\n",
              "      <th>Average Cost for two</th>\n",
              "      <th>Price range</th>\n",
              "      <th>Aggregate rating</th>\n",
              "      <th>Votes</th>\n",
              "    </tr>\n",
              "  </thead>\n",
              "  <tbody>\n",
              "    <tr>\n",
              "      <th>count</th>\n",
              "      <td>9.551000e+03</td>\n",
              "      <td>9551.000000</td>\n",
              "      <td>9551.000000</td>\n",
              "      <td>9551.000000</td>\n",
              "      <td>9551.000000</td>\n",
              "      <td>9551.000000</td>\n",
              "      <td>9551.000000</td>\n",
              "      <td>9551.000000</td>\n",
              "    </tr>\n",
              "    <tr>\n",
              "      <th>mean</th>\n",
              "      <td>9.051128e+06</td>\n",
              "      <td>18.365616</td>\n",
              "      <td>64.126574</td>\n",
              "      <td>25.854381</td>\n",
              "      <td>1199.210763</td>\n",
              "      <td>1.804837</td>\n",
              "      <td>2.666370</td>\n",
              "      <td>156.909748</td>\n",
              "    </tr>\n",
              "    <tr>\n",
              "      <th>std</th>\n",
              "      <td>8.791521e+06</td>\n",
              "      <td>56.750546</td>\n",
              "      <td>41.467058</td>\n",
              "      <td>11.007935</td>\n",
              "      <td>16121.183073</td>\n",
              "      <td>0.905609</td>\n",
              "      <td>1.516378</td>\n",
              "      <td>430.169145</td>\n",
              "    </tr>\n",
              "    <tr>\n",
              "      <th>min</th>\n",
              "      <td>5.300000e+01</td>\n",
              "      <td>1.000000</td>\n",
              "      <td>-157.948486</td>\n",
              "      <td>-41.330428</td>\n",
              "      <td>0.000000</td>\n",
              "      <td>1.000000</td>\n",
              "      <td>0.000000</td>\n",
              "      <td>0.000000</td>\n",
              "    </tr>\n",
              "    <tr>\n",
              "      <th>25%</th>\n",
              "      <td>3.019625e+05</td>\n",
              "      <td>1.000000</td>\n",
              "      <td>77.081343</td>\n",
              "      <td>28.478713</td>\n",
              "      <td>250.000000</td>\n",
              "      <td>1.000000</td>\n",
              "      <td>2.500000</td>\n",
              "      <td>5.000000</td>\n",
              "    </tr>\n",
              "    <tr>\n",
              "      <th>50%</th>\n",
              "      <td>6.004089e+06</td>\n",
              "      <td>1.000000</td>\n",
              "      <td>77.191964</td>\n",
              "      <td>28.570469</td>\n",
              "      <td>400.000000</td>\n",
              "      <td>2.000000</td>\n",
              "      <td>3.200000</td>\n",
              "      <td>31.000000</td>\n",
              "    </tr>\n",
              "    <tr>\n",
              "      <th>75%</th>\n",
              "      <td>1.835229e+07</td>\n",
              "      <td>1.000000</td>\n",
              "      <td>77.282006</td>\n",
              "      <td>28.642758</td>\n",
              "      <td>700.000000</td>\n",
              "      <td>2.000000</td>\n",
              "      <td>3.700000</td>\n",
              "      <td>131.000000</td>\n",
              "    </tr>\n",
              "    <tr>\n",
              "      <th>max</th>\n",
              "      <td>1.850065e+07</td>\n",
              "      <td>216.000000</td>\n",
              "      <td>174.832089</td>\n",
              "      <td>55.976980</td>\n",
              "      <td>800000.000000</td>\n",
              "      <td>4.000000</td>\n",
              "      <td>4.900000</td>\n",
              "      <td>10934.000000</td>\n",
              "    </tr>\n",
              "  </tbody>\n",
              "</table>\n",
              "</div>"
            ],
            "text/plain": [
              "       Restaurant ID  Country Code    Longitude     Latitude  \\\n",
              "count   9.551000e+03   9551.000000  9551.000000  9551.000000   \n",
              "mean    9.051128e+06     18.365616    64.126574    25.854381   \n",
              "std     8.791521e+06     56.750546    41.467058    11.007935   \n",
              "min     5.300000e+01      1.000000  -157.948486   -41.330428   \n",
              "25%     3.019625e+05      1.000000    77.081343    28.478713   \n",
              "50%     6.004089e+06      1.000000    77.191964    28.570469   \n",
              "75%     1.835229e+07      1.000000    77.282006    28.642758   \n",
              "max     1.850065e+07    216.000000   174.832089    55.976980   \n",
              "\n",
              "       Average Cost for two  Price range  Aggregate rating         Votes  \n",
              "count           9551.000000  9551.000000       9551.000000   9551.000000  \n",
              "mean            1199.210763     1.804837          2.666370    156.909748  \n",
              "std            16121.183073     0.905609          1.516378    430.169145  \n",
              "min                0.000000     1.000000          0.000000      0.000000  \n",
              "25%              250.000000     1.000000          2.500000      5.000000  \n",
              "50%              400.000000     2.000000          3.200000     31.000000  \n",
              "75%              700.000000     2.000000          3.700000    131.000000  \n",
              "max           800000.000000     4.000000          4.900000  10934.000000  "
            ]
          },
          "execution_count": 12,
          "metadata": {},
          "output_type": "execute_result"
        }
      ],
      "source": [
        "df.describe()"
      ]
    },
    {
      "cell_type": "code",
      "execution_count": null,
      "id": "c71496aa-15a7-4426-986e-9ecf5b904d19",
      "metadata": {
        "id": "c71496aa-15a7-4426-986e-9ecf5b904d19",
        "outputId": "062fe2bf-5ba1-48e5-8bad-f5b50ec53a1d"
      },
      "outputs": [
        {
          "data": {
            "text/plain": [
              "Restaurant ID           0\n",
              "Restaurant Name         0\n",
              "Country Code            0\n",
              "City                    0\n",
              "Address                 0\n",
              "Locality                0\n",
              "Locality Verbose        0\n",
              "Longitude               0\n",
              "Latitude                0\n",
              "Cuisines                9\n",
              "Average Cost for two    0\n",
              "Currency                0\n",
              "Has Table booking       0\n",
              "Has Online delivery     0\n",
              "Is delivering now       0\n",
              "Switch to order menu    0\n",
              "Price range             0\n",
              "Aggregate rating        0\n",
              "Rating color            0\n",
              "Rating text             0\n",
              "Votes                   0\n",
              "dtype: int64"
            ]
          },
          "execution_count": 13,
          "metadata": {},
          "output_type": "execute_result"
        }
      ],
      "source": [
        "df.isnull().sum()"
      ]
    },
    {
      "cell_type": "code",
      "execution_count": null,
      "id": "6bd53f3c-a357-449e-942e-06a670712801",
      "metadata": {
        "id": "6bd53f3c-a357-449e-942e-06a670712801",
        "outputId": "4d4f9f68-d9bc-4983-82d3-09f53124ac01"
      },
      "outputs": [
        {
          "data": {
            "text/plain": [
              "0"
            ]
          },
          "execution_count": 14,
          "metadata": {},
          "output_type": "execute_result"
        }
      ],
      "source": [
        "df.duplicated().sum()"
      ]
    },
    {
      "cell_type": "code",
      "execution_count": null,
      "id": "b22d18d6-9b94-494f-8b0d-a39c4e2906f5",
      "metadata": {
        "id": "b22d18d6-9b94-494f-8b0d-a39c4e2906f5",
        "outputId": "6211a972-ffe4-4eb3-8c6d-06984d93051d"
      },
      "outputs": [
        {
          "name": "stdout",
          "output_type": "stream",
          "text": [
            "Outliers in 'Average Cost for two': 853\n"
          ]
        }
      ],
      "source": [
        "Q1 = df['Average Cost for two'].quantile(0.25)\n",
        "Q3 = df['Average Cost for two'].quantile(0.75)\n",
        "IQR = Q3 - Q1\n",
        "\n",
        "lower = Q1 - 1.5 * IQR\n",
        "upper = Q3 + 1.5 * IQR\n",
        "\n",
        "outliers_cost = df[(df['Average Cost for two'] < lower) | (df['Average Cost for two'] > upper)]\n",
        "print(\"Outliers in 'Average Cost for two':\", len(outliers_cost))\n"
      ]
    },
    {
      "cell_type": "markdown",
      "id": "06707bfa-5052-4b8e-ab88-5bdba350e66d",
      "metadata": {
        "id": "06707bfa-5052-4b8e-ab88-5bdba350e66d"
      },
      "source": [
        "# Data Cleaning\n"
      ]
    },
    {
      "cell_type": "code",
      "execution_count": null,
      "id": "913e81a4-4e3e-4cb3-923e-8a7ab6b48d87",
      "metadata": {
        "id": "913e81a4-4e3e-4cb3-923e-8a7ab6b48d87"
      },
      "outputs": [],
      "source": [
        "df['Cuisines'] = df['Cuisines'].fillna(\"Not specified\")"
      ]
    },
    {
      "cell_type": "code",
      "execution_count": null,
      "id": "7f2f6865-6c1b-46dd-844c-9dd34de41a23",
      "metadata": {
        "id": "7f2f6865-6c1b-46dd-844c-9dd34de41a23"
      },
      "outputs": [],
      "source": [
        "df = df[(df['Average Cost for two'] >= lower) & (df['Average Cost for two'] <= upper)]"
      ]
    },
    {
      "cell_type": "code",
      "execution_count": null,
      "id": "747b40d7-62d8-429e-90d9-f98de6fcf8c1",
      "metadata": {
        "id": "747b40d7-62d8-429e-90d9-f98de6fcf8c1"
      },
      "outputs": [],
      "source": [
        "Q1 = df['Average Cost for two'].quantile(0.25)\n",
        "Q3 = df['Average Cost for two'].quantile(0.75)\n",
        "IQR = Q3 - Q1\n",
        "\n",
        "lower = Q1 - 1.5 * IQR\n",
        "upper = Q3 + 1.5 * IQR\n",
        "\n",
        "# Filter out outliers\n",
        "df = df[(df['Average Cost for two'] >= lower) & (df['Average Cost for two'] <= upper)]"
      ]
    },
    {
      "cell_type": "markdown",
      "id": "d7a1503f-eda3-4786-8e74-7e58569f8d79",
      "metadata": {
        "id": "d7a1503f-eda3-4786-8e74-7e58569f8d79"
      },
      "source": [
        "# Country Code Datadet\n"
      ]
    },
    {
      "cell_type": "code",
      "execution_count": null,
      "id": "51484bbd-77f9-48b5-81c0-ad32cd52e680",
      "metadata": {
        "id": "51484bbd-77f9-48b5-81c0-ad32cd52e680"
      },
      "outputs": [],
      "source": [
        "df2=pd.read_excel(r\"C:\\Users\\hpw\\OneDrive\\Desktop\\Country-Code.xlsx\")"
      ]
    },
    {
      "cell_type": "code",
      "execution_count": null,
      "id": "d0ac4a11-2975-49ff-b664-fc281ff577ab",
      "metadata": {
        "id": "d0ac4a11-2975-49ff-b664-fc281ff577ab",
        "outputId": "f66ba10d-90aa-4635-ba15-e6d8be6cb47c"
      },
      "outputs": [
        {
          "name": "stdout",
          "output_type": "stream",
          "text": [
            "<class 'pandas.core.frame.DataFrame'>\n",
            "RangeIndex: 15 entries, 0 to 14\n",
            "Data columns (total 2 columns):\n",
            " #   Column        Non-Null Count  Dtype \n",
            "---  ------        --------------  ----- \n",
            " 0   Country Code  15 non-null     int64 \n",
            " 1   Country       15 non-null     object\n",
            "dtypes: int64(1), object(1)\n",
            "memory usage: 372.0+ bytes\n"
          ]
        }
      ],
      "source": [
        "df2.info()"
      ]
    },
    {
      "cell_type": "code",
      "execution_count": null,
      "id": "704a1949-3924-4fa9-8b3b-0589063ce816",
      "metadata": {
        "id": "704a1949-3924-4fa9-8b3b-0589063ce816",
        "outputId": "1ff8c54c-2cfe-48cf-8cf1-d6f64790b6a0"
      },
      "outputs": [
        {
          "data": {
            "text/html": [
              "<div>\n",
              "<style scoped>\n",
              "    .dataframe tbody tr th:only-of-type {\n",
              "        vertical-align: middle;\n",
              "    }\n",
              "\n",
              "    .dataframe tbody tr th {\n",
              "        vertical-align: top;\n",
              "    }\n",
              "\n",
              "    .dataframe thead th {\n",
              "        text-align: right;\n",
              "    }\n",
              "</style>\n",
              "<table border=\"1\" class=\"dataframe\">\n",
              "  <thead>\n",
              "    <tr style=\"text-align: right;\">\n",
              "      <th></th>\n",
              "      <th>Country Code</th>\n",
              "      <th>Country</th>\n",
              "    </tr>\n",
              "  </thead>\n",
              "  <tbody>\n",
              "    <tr>\n",
              "      <th>0</th>\n",
              "      <td>1</td>\n",
              "      <td>India</td>\n",
              "    </tr>\n",
              "    <tr>\n",
              "      <th>1</th>\n",
              "      <td>14</td>\n",
              "      <td>Australia</td>\n",
              "    </tr>\n",
              "    <tr>\n",
              "      <th>2</th>\n",
              "      <td>30</td>\n",
              "      <td>Brazil</td>\n",
              "    </tr>\n",
              "    <tr>\n",
              "      <th>3</th>\n",
              "      <td>37</td>\n",
              "      <td>Canada</td>\n",
              "    </tr>\n",
              "    <tr>\n",
              "      <th>4</th>\n",
              "      <td>94</td>\n",
              "      <td>Indonesia</td>\n",
              "    </tr>\n",
              "  </tbody>\n",
              "</table>\n",
              "</div>"
            ],
            "text/plain": [
              "   Country Code    Country\n",
              "0             1      India\n",
              "1            14  Australia\n",
              "2            30     Brazil\n",
              "3            37     Canada\n",
              "4            94  Indonesia"
            ]
          },
          "execution_count": 30,
          "metadata": {},
          "output_type": "execute_result"
        }
      ],
      "source": [
        "df2.head()"
      ]
    },
    {
      "cell_type": "code",
      "execution_count": null,
      "id": "b11f2575-e0b0-4644-b366-00b1640e43e4",
      "metadata": {
        "id": "b11f2575-e0b0-4644-b366-00b1640e43e4",
        "outputId": "d8d3e78d-91b9-4ed5-d37d-054c4e25758d"
      },
      "outputs": [
        {
          "data": {
            "text/plain": [
              "Country Code    0\n",
              "Country         0\n",
              "dtype: int64"
            ]
          },
          "execution_count": 36,
          "metadata": {},
          "output_type": "execute_result"
        }
      ],
      "source": [
        "df2.isnull().sum()"
      ]
    },
    {
      "cell_type": "code",
      "execution_count": null,
      "id": "683f5a92-478a-44f1-9cdc-04477e341535",
      "metadata": {
        "id": "683f5a92-478a-44f1-9cdc-04477e341535",
        "outputId": "aa5f54b9-6629-4e61-866d-0d1c25c13c67"
      },
      "outputs": [
        {
          "data": {
            "text/plain": [
              "0"
            ]
          },
          "execution_count": 38,
          "metadata": {},
          "output_type": "execute_result"
        }
      ],
      "source": [
        "df2.duplicated().sum()"
      ]
    },
    {
      "cell_type": "code",
      "execution_count": null,
      "id": "40340fac-1da2-4a67-a152-a25efdc8b3f1",
      "metadata": {
        "id": "40340fac-1da2-4a67-a152-a25efdc8b3f1",
        "outputId": "a272c1be-ae09-42e9-95c6-8c3296bd5dd7"
      },
      "outputs": [
        {
          "data": {
            "text/html": [
              "<div>\n",
              "<style scoped>\n",
              "    .dataframe tbody tr th:only-of-type {\n",
              "        vertical-align: middle;\n",
              "    }\n",
              "\n",
              "    .dataframe tbody tr th {\n",
              "        vertical-align: top;\n",
              "    }\n",
              "\n",
              "    .dataframe thead th {\n",
              "        text-align: right;\n",
              "    }\n",
              "</style>\n",
              "<table border=\"1\" class=\"dataframe\">\n",
              "  <thead>\n",
              "    <tr style=\"text-align: right;\">\n",
              "      <th></th>\n",
              "      <th>Country Code</th>\n",
              "    </tr>\n",
              "  </thead>\n",
              "  <tbody>\n",
              "    <tr>\n",
              "      <th>count</th>\n",
              "      <td>15.000000</td>\n",
              "    </tr>\n",
              "    <tr>\n",
              "      <th>mean</th>\n",
              "      <td>137.933333</td>\n",
              "    </tr>\n",
              "    <tr>\n",
              "      <th>std</th>\n",
              "      <td>80.009345</td>\n",
              "    </tr>\n",
              "    <tr>\n",
              "      <th>min</th>\n",
              "      <td>1.000000</td>\n",
              "    </tr>\n",
              "    <tr>\n",
              "      <th>25%</th>\n",
              "      <td>65.500000</td>\n",
              "    </tr>\n",
              "    <tr>\n",
              "      <th>50%</th>\n",
              "      <td>166.000000</td>\n",
              "    </tr>\n",
              "    <tr>\n",
              "      <th>75%</th>\n",
              "      <td>199.500000</td>\n",
              "    </tr>\n",
              "    <tr>\n",
              "      <th>max</th>\n",
              "      <td>216.000000</td>\n",
              "    </tr>\n",
              "  </tbody>\n",
              "</table>\n",
              "</div>"
            ],
            "text/plain": [
              "       Country Code\n",
              "count     15.000000\n",
              "mean     137.933333\n",
              "std       80.009345\n",
              "min        1.000000\n",
              "25%       65.500000\n",
              "50%      166.000000\n",
              "75%      199.500000\n",
              "max      216.000000"
            ]
          },
          "execution_count": 40,
          "metadata": {},
          "output_type": "execute_result"
        }
      ],
      "source": [
        "df2.describe()"
      ]
    },
    {
      "cell_type": "markdown",
      "id": "65a56084-7163-40f8-8af1-74712738b8de",
      "metadata": {
        "id": "65a56084-7163-40f8-8af1-74712738b8de"
      },
      "source": [
        "# Merged Dataset\n"
      ]
    },
    {
      "cell_type": "code",
      "execution_count": null,
      "id": "5ebfd69c-9c78-4db5-b377-5d477687106c",
      "metadata": {
        "id": "5ebfd69c-9c78-4db5-b377-5d477687106c"
      },
      "outputs": [],
      "source": [
        "merged_df = df.merge(df2, on='Country Code', how='left')"
      ]
    },
    {
      "cell_type": "code",
      "execution_count": null,
      "id": "c883290e-39eb-498d-b779-92c6f12832c0",
      "metadata": {
        "id": "c883290e-39eb-498d-b779-92c6f12832c0",
        "outputId": "56545b5b-5be4-463c-e33a-6dbab8297827"
      },
      "outputs": [
        {
          "data": {
            "text/html": [
              "<div>\n",
              "<style scoped>\n",
              "    .dataframe tbody tr th:only-of-type {\n",
              "        vertical-align: middle;\n",
              "    }\n",
              "\n",
              "    .dataframe tbody tr th {\n",
              "        vertical-align: top;\n",
              "    }\n",
              "\n",
              "    .dataframe thead th {\n",
              "        text-align: right;\n",
              "    }\n",
              "</style>\n",
              "<table border=\"1\" class=\"dataframe\">\n",
              "  <thead>\n",
              "    <tr style=\"text-align: right;\">\n",
              "      <th></th>\n",
              "      <th>Restaurant Name</th>\n",
              "      <th>City</th>\n",
              "      <th>Aggregate rating</th>\n",
              "      <th>Votes</th>\n",
              "      <th>Country</th>\n",
              "    </tr>\n",
              "  </thead>\n",
              "  <tbody>\n",
              "    <tr>\n",
              "      <th>0</th>\n",
              "      <td>Punjab Grill</td>\n",
              "      <td>Abu Dhabi</td>\n",
              "      <td>4.9</td>\n",
              "      <td>216</td>\n",
              "      <td>UAE</td>\n",
              "    </tr>\n",
              "    <tr>\n",
              "      <th>1</th>\n",
              "      <td>Sheroes Hangout</td>\n",
              "      <td>Agra</td>\n",
              "      <td>4.9</td>\n",
              "      <td>77</td>\n",
              "      <td>India</td>\n",
              "    </tr>\n",
              "    <tr>\n",
              "      <th>2</th>\n",
              "      <td>Cryo Lab</td>\n",
              "      <td>Ahmedabad</td>\n",
              "      <td>4.6</td>\n",
              "      <td>166</td>\n",
              "      <td>India</td>\n",
              "    </tr>\n",
              "    <tr>\n",
              "      <th>3</th>\n",
              "      <td>Jimmie's Hot Dogs</td>\n",
              "      <td>Albany</td>\n",
              "      <td>3.9</td>\n",
              "      <td>160</td>\n",
              "      <td>United States</td>\n",
              "    </tr>\n",
              "    <tr>\n",
              "      <th>4</th>\n",
              "      <td>Eat On</td>\n",
              "      <td>Allahabad</td>\n",
              "      <td>3.7</td>\n",
              "      <td>105</td>\n",
              "      <td>India</td>\n",
              "    </tr>\n",
              "    <tr>\n",
              "      <th>...</th>\n",
              "      <td>...</td>\n",
              "      <td>...</td>\n",
              "      <td>...</td>\n",
              "      <td>...</td>\n",
              "      <td>...</td>\n",
              "    </tr>\n",
              "    <tr>\n",
              "      <th>129</th>\n",
              "      <td>Theo Yianni's Authentic Greek Restaurant</td>\n",
              "      <td>Weirton</td>\n",
              "      <td>3.9</td>\n",
              "      <td>156</td>\n",
              "      <td>United States</td>\n",
              "    </tr>\n",
              "    <tr>\n",
              "      <th>130</th>\n",
              "      <td>The Hangar</td>\n",
              "      <td>Wellington City</td>\n",
              "      <td>4.6</td>\n",
              "      <td>171</td>\n",
              "      <td>New Zealand</td>\n",
              "    </tr>\n",
              "    <tr>\n",
              "      <th>131</th>\n",
              "      <td>Fishpatrick's Crabby Cafe</td>\n",
              "      <td>Winchester Bay</td>\n",
              "      <td>3.2</td>\n",
              "      <td>16</td>\n",
              "      <td>United States</td>\n",
              "    </tr>\n",
              "    <tr>\n",
              "      <th>132</th>\n",
              "      <td>Arigato Sushi</td>\n",
              "      <td>Yorkton</td>\n",
              "      <td>3.3</td>\n",
              "      <td>26</td>\n",
              "      <td>Canada</td>\n",
              "    </tr>\n",
              "    <tr>\n",
              "      <th>133</th>\n",
              "      <td>Starbucks</td>\n",
              "      <td>ÛÁstanbul</td>\n",
              "      <td>4.9</td>\n",
              "      <td>1042</td>\n",
              "      <td>Turkey</td>\n",
              "    </tr>\n",
              "  </tbody>\n",
              "</table>\n",
              "<p>134 rows × 5 columns</p>\n",
              "</div>"
            ],
            "text/plain": [
              "                              Restaurant Name             City  \\\n",
              "0                                Punjab Grill        Abu Dhabi   \n",
              "1                             Sheroes Hangout             Agra   \n",
              "2                                    Cryo Lab        Ahmedabad   \n",
              "3                           Jimmie's Hot Dogs           Albany   \n",
              "4                                      Eat On        Allahabad   \n",
              "..                                        ...              ...   \n",
              "129  Theo Yianni's Authentic Greek Restaurant          Weirton   \n",
              "130                                The Hangar  Wellington City   \n",
              "131                 Fishpatrick's Crabby Cafe   Winchester Bay   \n",
              "132                             Arigato Sushi          Yorkton   \n",
              "133                                 Starbucks        ÛÁstanbul   \n",
              "\n",
              "     Aggregate rating  Votes        Country  \n",
              "0                 4.9    216            UAE  \n",
              "1                 4.9     77          India  \n",
              "2                 4.6    166          India  \n",
              "3                 3.9    160  United States  \n",
              "4                 3.7    105          India  \n",
              "..                ...    ...            ...  \n",
              "129               3.9    156  United States  \n",
              "130               4.6    171    New Zealand  \n",
              "131               3.2     16  United States  \n",
              "132               3.3     26         Canada  \n",
              "133               4.9   1042         Turkey  \n",
              "\n",
              "[134 rows x 5 columns]"
            ]
          },
          "execution_count": 45,
          "metadata": {},
          "output_type": "execute_result"
        }
      ],
      "source": [
        "top_rated = merged_df[merged_df['Aggregate rating'] > 0]\n",
        "top_rated = top_rated.sort_values(['City', 'Aggregate rating', 'Votes'], ascending=[True, False, False])\n",
        "top_restaurants_by_city = top_rated.groupby('City').first().reset_index()\n",
        "\n",
        "# View the top ones\n",
        "top_restaurants_by_city[['Restaurant Name', 'City', 'Aggregate rating', 'Votes', 'Country']]\n"
      ]
    },
    {
      "cell_type": "code",
      "execution_count": null,
      "id": "79dfd41c-fce4-428b-8f2b-aff89d188146",
      "metadata": {
        "id": "79dfd41c-fce4-428b-8f2b-aff89d188146",
        "outputId": "3f4bfa12-7ffc-41ce-c346-12546615b1e4"
      },
      "outputs": [
        {
          "name": "stdout",
          "output_type": "stream",
          "text": [
            "                  Aggregate rating     Votes\n",
            "Aggregate rating          1.000000  0.316853\n",
            "Votes                     0.316853  1.000000\n"
          ]
        },
        {
          "data": {
            "image/png": "[encoded data removed]",
            "text/plain": [
              "<Figure size 640x480 with 1 Axes>"
            ]
          },
          "metadata": {},
          "output_type": "display_data"
        }
      ],
      "source": [
        "# Correlation\n",
        "correlation = merged_df[['Aggregate rating', 'Votes']].corr()\n",
        "print(correlation)\n",
        "# Plot\n",
        "sns.scatterplot(data=merged_df, x='Votes', y='Aggregate rating')\n",
        "plt.title(\"Relationship between Votes and Aggregate Rating\")\n",
        "plt.show()\n"
      ]
    },
    {
      "cell_type": "code",
      "execution_count": null,
      "id": "d0b535d7-4a8a-4433-bc26-d1d4a4b0f713",
      "metadata": {
        "id": "d0b535d7-4a8a-4433-bc26-d1d4a4b0f713",
        "outputId": "79cf2f47-5dfb-46d7-fd70-b71bff32d3e3"
      },
      "outputs": [
        {
          "name": "stdout",
          "output_type": "stream",
          "text": [
            "Country\n",
            "India             7610\n",
            "United States      434\n",
            "United Kingdom      80\n",
            "Brazil              60\n",
            "UAE                 60\n",
            "South Africa        58\n",
            "New Zealand         40\n",
            "Turkey              34\n",
            "Australia           24\n",
            "Singapore           20\n",
            "Qatar               20\n",
            "Phillipines         11\n",
            "Canada               4\n",
            "Sri Lanka            3\n",
            "Name: count, dtype: int64\n"
          ]
        }
      ],
      "source": [
        "restaurant_counts = merged_df['Country'].value_counts()\n",
        "print(restaurant_counts)"
      ]
    },
    {
      "cell_type": "code",
      "execution_count": null,
      "id": "8e243c05-9ae8-496f-807a-928e59317726",
      "metadata": {
        "id": "8e243c05-9ae8-496f-807a-928e59317726",
        "outputId": "7b7ae173-689c-42e8-a9d0-8e87b922f62f"
      },
      "outputs": [
        {
          "name": "stdout",
          "output_type": "stream",
          "text": [
            "         Restaurant Name        City  Aggregate rating  Votes Country\n",
            "2604  Naturals Ice Cream   New Delhi               4.9   2620   India\n",
            "1240         Caterspoint     Gurgaon               4.9    223   India\n",
            "780              CakeBee  Coimbatore               4.9    200   India\n",
            "707             Truffles   Bangalore               4.7   9667   India\n",
            "2141  The Fusion Kitchen      Mumbai               4.7   2083   India\n"
          ]
        }
      ],
      "source": [
        "online_delivery = merged_df[merged_df['Has Online delivery'] == 'Yes']\n",
        "top_online_delivery = online_delivery.sort_values(['Aggregate rating', 'Votes'], ascending=False)\n",
        "top_5_online_delivery = top_online_delivery[['Restaurant Name', 'City', 'Aggregate rating', 'Votes', 'Country']].head(5)\n",
        "print(top_5_online_delivery)"
      ]
    },
    {
      "cell_type": "code",
      "execution_count": null,
      "id": "508e4d6d-bc51-4a44-8009-7f7b7cbd52f7",
      "metadata": {
        "id": "508e4d6d-bc51-4a44-8009-7f7b7cbd52f7",
        "outputId": "4133ba21-7f6c-4490-be0a-d373b6cfe96b"
      },
      "outputs": [
        {
          "data": {
            "text/html": [
              "<div>\n",
              "<style scoped>\n",
              "    .dataframe tbody tr th:only-of-type {\n",
              "        vertical-align: middle;\n",
              "    }\n",
              "\n",
              "    .dataframe tbody tr th {\n",
              "        vertical-align: top;\n",
              "    }\n",
              "\n",
              "    .dataframe thead th {\n",
              "        text-align: right;\n",
              "    }\n",
              "</style>\n",
              "<table border=\"1\" class=\"dataframe\">\n",
              "  <thead>\n",
              "    <tr style=\"text-align: right;\">\n",
              "      <th></th>\n",
              "      <th>Restaurant Name</th>\n",
              "      <th>City</th>\n",
              "      <th>Average Cost for two</th>\n",
              "      <th>Aggregate rating</th>\n",
              "    </tr>\n",
              "  </thead>\n",
              "  <tbody>\n",
              "    <tr>\n",
              "      <th>0</th>\n",
              "      <td>Punjab Grill</td>\n",
              "      <td>Abu Dhabi</td>\n",
              "      <td>330</td>\n",
              "      <td>4.9</td>\n",
              "    </tr>\n",
              "    <tr>\n",
              "      <th>1</th>\n",
              "      <td>Sheroes Hangout</td>\n",
              "      <td>Agra</td>\n",
              "      <td>0</td>\n",
              "      <td>4.9</td>\n",
              "    </tr>\n",
              "    <tr>\n",
              "      <th>2</th>\n",
              "      <td>Cryo Lab</td>\n",
              "      <td>Ahmedabad</td>\n",
              "      <td>350</td>\n",
              "      <td>4.6</td>\n",
              "    </tr>\n",
              "    <tr>\n",
              "      <th>3</th>\n",
              "      <td>Gurdas Ram Jalebi Wala</td>\n",
              "      <td>Amritsar</td>\n",
              "      <td>100</td>\n",
              "      <td>4.1</td>\n",
              "    </tr>\n",
              "    <tr>\n",
              "      <th>4</th>\n",
              "      <td>Gaga Manjero</td>\n",
              "      <td>Ankara</td>\n",
              "      <td>80</td>\n",
              "      <td>4.9</td>\n",
              "    </tr>\n",
              "    <tr>\n",
              "      <th>...</th>\n",
              "      <td>...</td>\n",
              "      <td>...</td>\n",
              "      <td>...</td>\n",
              "      <td>...</td>\n",
              "    </tr>\n",
              "    <tr>\n",
              "      <th>68</th>\n",
              "      <td>Blue House Cafe</td>\n",
              "      <td>Vernonia</td>\n",
              "      <td>10</td>\n",
              "      <td>4.3</td>\n",
              "    </tr>\n",
              "    <tr>\n",
              "      <th>69</th>\n",
              "      <td>Lake House Restaurant</td>\n",
              "      <td>Vineland Station</td>\n",
              "      <td>70</td>\n",
              "      <td>4.3</td>\n",
              "    </tr>\n",
              "    <tr>\n",
              "      <th>70</th>\n",
              "      <td>Sri Sairam Parlour</td>\n",
              "      <td>Vizag</td>\n",
              "      <td>300</td>\n",
              "      <td>4.2</td>\n",
              "    </tr>\n",
              "    <tr>\n",
              "      <th>71</th>\n",
              "      <td>The Hangar</td>\n",
              "      <td>Wellington City</td>\n",
              "      <td>50</td>\n",
              "      <td>4.6</td>\n",
              "    </tr>\n",
              "    <tr>\n",
              "      <th>72</th>\n",
              "      <td>Starbucks</td>\n",
              "      <td>ÛÁstanbul</td>\n",
              "      <td>30</td>\n",
              "      <td>4.9</td>\n",
              "    </tr>\n",
              "  </tbody>\n",
              "</table>\n",
              "<p>73 rows × 4 columns</p>\n",
              "</div>"
            ],
            "text/plain": [
              "           Restaurant Name              City  Average Cost for two  \\\n",
              "0             Punjab Grill         Abu Dhabi                   330   \n",
              "1          Sheroes Hangout              Agra                     0   \n",
              "2                 Cryo Lab         Ahmedabad                   350   \n",
              "3   Gurdas Ram Jalebi Wala          Amritsar                   100   \n",
              "4             Gaga Manjero            Ankara                    80   \n",
              "..                     ...               ...                   ...   \n",
              "68         Blue House Cafe          Vernonia                    10   \n",
              "69   Lake House Restaurant  Vineland Station                    70   \n",
              "70      Sri Sairam Parlour             Vizag                   300   \n",
              "71              The Hangar   Wellington City                    50   \n",
              "72               Starbucks         ÛÁstanbul                    30   \n",
              "\n",
              "    Aggregate rating  \n",
              "0                4.9  \n",
              "1                4.9  \n",
              "2                4.6  \n",
              "3                4.1  \n",
              "4                4.9  \n",
              "..               ...  \n",
              "68               4.3  \n",
              "69               4.3  \n",
              "70               4.2  \n",
              "71               4.6  \n",
              "72               4.9  \n",
              "\n",
              "[73 rows x 4 columns]"
            ]
          },
          "execution_count": 53,
          "metadata": {},
          "output_type": "execute_result"
        }
      ],
      "source": [
        "cheap_best = merged_df[(merged_df['Average Cost for two'] <= 400) & (merged_df['Aggregate rating'] >= 4)]\n",
        "cheap_best_sorted = cheap_best.sort_values(['City', 'Aggregate rating'], ascending=[True, False])\n",
        "cheap_best_by_city = cheap_best_sorted.groupby('City').first().reset_index()\n",
        "\n",
        "cheap_best_by_city[['Restaurant Name', 'City', 'Average Cost for two', 'Aggregate rating']]"
      ]
    },
    {
      "cell_type": "code",
      "execution_count": null,
      "id": "337cbc50-a14c-467b-b3bc-7cb352912bc5",
      "metadata": {
        "id": "337cbc50-a14c-467b-b3bc-7cb352912bc5",
        "outputId": "af8b471f-b840-47f0-b508-c72b0672a962"
      },
      "outputs": [
        {
          "data": {
            "text/html": [
              "<div>\n",
              "<style scoped>\n",
              "    .dataframe tbody tr th:only-of-type {\n",
              "        vertical-align: middle;\n",
              "    }\n",
              "\n",
              "    .dataframe tbody tr th {\n",
              "        vertical-align: top;\n",
              "    }\n",
              "\n",
              "    .dataframe thead th {\n",
              "        text-align: right;\n",
              "    }\n",
              "</style>\n",
              "<table border=\"1\" class=\"dataframe\">\n",
              "  <thead>\n",
              "    <tr style=\"text-align: right;\">\n",
              "      <th></th>\n",
              "      <th>Country</th>\n",
              "      <th>Cuisines</th>\n",
              "      <th>Count</th>\n",
              "    </tr>\n",
              "  </thead>\n",
              "  <tbody>\n",
              "    <tr>\n",
              "      <th>0</th>\n",
              "      <td>Australia</td>\n",
              "      <td>Breakfast, Coffee and Tea</td>\n",
              "      <td>2</td>\n",
              "    </tr>\n",
              "    <tr>\n",
              "      <th>1</th>\n",
              "      <td>Brazil</td>\n",
              "      <td>Brazilian</td>\n",
              "      <td>8</td>\n",
              "    </tr>\n",
              "    <tr>\n",
              "      <th>2</th>\n",
              "      <td>Canada</td>\n",
              "      <td>Asian</td>\n",
              "      <td>1</td>\n",
              "    </tr>\n",
              "    <tr>\n",
              "      <th>3</th>\n",
              "      <td>India</td>\n",
              "      <td>North Indian</td>\n",
              "      <td>896</td>\n",
              "    </tr>\n",
              "    <tr>\n",
              "      <th>4</th>\n",
              "      <td>New Zealand</td>\n",
              "      <td>Cafe</td>\n",
              "      <td>5</td>\n",
              "    </tr>\n",
              "    <tr>\n",
              "      <th>5</th>\n",
              "      <td>Phillipines</td>\n",
              "      <td>Filipino</td>\n",
              "      <td>2</td>\n",
              "    </tr>\n",
              "    <tr>\n",
              "      <th>6</th>\n",
              "      <td>Qatar</td>\n",
              "      <td>Indian</td>\n",
              "      <td>5</td>\n",
              "    </tr>\n",
              "    <tr>\n",
              "      <th>7</th>\n",
              "      <td>Singapore</td>\n",
              "      <td>French</td>\n",
              "      <td>2</td>\n",
              "    </tr>\n",
              "    <tr>\n",
              "      <th>8</th>\n",
              "      <td>South Africa</td>\n",
              "      <td>Mexican</td>\n",
              "      <td>3</td>\n",
              "    </tr>\n",
              "    <tr>\n",
              "      <th>9</th>\n",
              "      <td>Sri Lanka</td>\n",
              "      <td>Desserts, Bakery</td>\n",
              "      <td>1</td>\n",
              "    </tr>\n",
              "    <tr>\n",
              "      <th>10</th>\n",
              "      <td>Turkey</td>\n",
              "      <td>Cafe</td>\n",
              "      <td>6</td>\n",
              "    </tr>\n",
              "    <tr>\n",
              "      <th>11</th>\n",
              "      <td>UAE</td>\n",
              "      <td>Indian</td>\n",
              "      <td>5</td>\n",
              "    </tr>\n",
              "    <tr>\n",
              "      <th>12</th>\n",
              "      <td>United Kingdom</td>\n",
              "      <td>Italian</td>\n",
              "      <td>7</td>\n",
              "    </tr>\n",
              "    <tr>\n",
              "      <th>13</th>\n",
              "      <td>United States</td>\n",
              "      <td>Mexican</td>\n",
              "      <td>25</td>\n",
              "    </tr>\n",
              "  </tbody>\n",
              "</table>\n",
              "</div>"
            ],
            "text/plain": [
              "           Country                   Cuisines  Count\n",
              "0        Australia  Breakfast, Coffee and Tea      2\n",
              "1           Brazil                  Brazilian      8\n",
              "2           Canada                      Asian      1\n",
              "3            India               North Indian    896\n",
              "4      New Zealand                       Cafe      5\n",
              "5      Phillipines                   Filipino      2\n",
              "6            Qatar                     Indian      5\n",
              "7        Singapore                     French      2\n",
              "8     South Africa                    Mexican      3\n",
              "9        Sri Lanka           Desserts, Bakery      1\n",
              "10          Turkey                       Cafe      6\n",
              "11             UAE                     Indian      5\n",
              "12  United Kingdom                    Italian      7\n",
              "13   United States                    Mexican     25"
            ]
          },
          "execution_count": 55,
          "metadata": {},
          "output_type": "execute_result"
        }
      ],
      "source": [
        "top_cuisines = merged_df.groupby(['Country', 'Cuisines']).size().reset_index(name='Count')\n",
        "top_cuisines = top_cuisines.sort_values(['Country', 'Count'], ascending=[True, False])\n",
        "top_cuisines_by_country = top_cuisines.groupby('Country').first().reset_index()\n",
        "\n",
        "top_cuisines_by_country"
      ]
    },
    {
      "cell_type": "code",
      "execution_count": null,
      "id": "89230f72-0a5e-487c-a62a-e1bf246f7f2e",
      "metadata": {
        "id": "89230f72-0a5e-487c-a62a-e1bf246f7f2e",
        "outputId": "efa69a4c-943f-4da1-fb31-f1e2436031b3"
      },
      "outputs": [
        {
          "data": {
            "text/html": [
              "<div>\n",
              "<style scoped>\n",
              "    .dataframe tbody tr th:only-of-type {\n",
              "        vertical-align: middle;\n",
              "    }\n",
              "\n",
              "    .dataframe tbody tr th {\n",
              "        vertical-align: top;\n",
              "    }\n",
              "\n",
              "    .dataframe thead th {\n",
              "        text-align: right;\n",
              "    }\n",
              "</style>\n",
              "<table border=\"1\" class=\"dataframe\">\n",
              "  <thead>\n",
              "    <tr style=\"text-align: right;\">\n",
              "      <th></th>\n",
              "      <th>Country</th>\n",
              "      <th>City</th>\n",
              "      <th>Average Rating</th>\n",
              "    </tr>\n",
              "  </thead>\n",
              "  <tbody>\n",
              "    <tr>\n",
              "      <th>2</th>\n",
              "      <td>Australia</td>\n",
              "      <td>Beechworth</td>\n",
              "      <td>4.6</td>\n",
              "    </tr>\n",
              "    <tr>\n",
              "      <th>16</th>\n",
              "      <td>Australia</td>\n",
              "      <td>Palm Cove</td>\n",
              "      <td>4.4</td>\n",
              "    </tr>\n",
              "    <tr>\n",
              "      <th>20</th>\n",
              "      <td>Australia</td>\n",
              "      <td>Tanunda</td>\n",
              "      <td>4.4</td>\n",
              "    </tr>\n",
              "    <tr>\n",
              "      <th>4</th>\n",
              "      <td>Australia</td>\n",
              "      <td>East Ballina</td>\n",
              "      <td>4.1</td>\n",
              "    </tr>\n",
              "    <tr>\n",
              "      <th>8</th>\n",
              "      <td>Australia</td>\n",
              "      <td>Huskisson</td>\n",
              "      <td>4.1</td>\n",
              "    </tr>\n",
              "    <tr>\n",
              "      <th>...</th>\n",
              "      <td>...</td>\n",
              "      <td>...</td>\n",
              "      <td>...</td>\n",
              "    </tr>\n",
              "    <tr>\n",
              "      <th>117</th>\n",
              "      <td>United States</td>\n",
              "      <td>Miller</td>\n",
              "      <td>3.4</td>\n",
              "    </tr>\n",
              "    <tr>\n",
              "      <th>123</th>\n",
              "      <td>United States</td>\n",
              "      <td>Potrero</td>\n",
              "      <td>3.3</td>\n",
              "    </tr>\n",
              "    <tr>\n",
              "      <th>133</th>\n",
              "      <td>United States</td>\n",
              "      <td>Winchester Bay</td>\n",
              "      <td>3.2</td>\n",
              "    </tr>\n",
              "    <tr>\n",
              "      <th>105</th>\n",
              "      <td>United States</td>\n",
              "      <td>Cochrane</td>\n",
              "      <td>3.1</td>\n",
              "    </tr>\n",
              "    <tr>\n",
              "      <th>116</th>\n",
              "      <td>United States</td>\n",
              "      <td>Mc Millan</td>\n",
              "      <td>2.4</td>\n",
              "    </tr>\n",
              "  </tbody>\n",
              "</table>\n",
              "<p>134 rows × 3 columns</p>\n",
              "</div>"
            ],
            "text/plain": [
              "           Country            City  Average Rating\n",
              "2        Australia      Beechworth             4.6\n",
              "16       Australia       Palm Cove             4.4\n",
              "20       Australia         Tanunda             4.4\n",
              "4        Australia    East Ballina             4.1\n",
              "8        Australia       Huskisson             4.1\n",
              "..             ...             ...             ...\n",
              "117  United States          Miller             3.4\n",
              "123  United States         Potrero             3.3\n",
              "133  United States  Winchester Bay             3.2\n",
              "105  United States        Cochrane             3.1\n",
              "116  United States       Mc Millan             2.4\n",
              "\n",
              "[134 rows x 3 columns]"
            ]
          },
          "execution_count": 57,
          "metadata": {},
          "output_type": "execute_result"
        }
      ],
      "source": [
        "city_ratings = merged_df.groupby(['Country', 'City'])['Aggregate rating'].mean().reset_index()\n",
        "city_ratings.rename(columns={'Aggregate rating': 'Average Rating'}, inplace=True)\n",
        "\n",
        "city_ratings.sort_values(['Country', 'Average Rating'], ascending=[True, False])"
      ]
    },
    {
      "cell_type": "code",
      "execution_count": null,
      "id": "d30b515d-302d-41ad-9e3c-a897976a9891",
      "metadata": {
        "id": "d30b515d-302d-41ad-9e3c-a897976a9891",
        "outputId": "03d17f84-d0df-4fff-97d4-d2c9becc7882"
      },
      "outputs": [
        {
          "data": {
            "image/png": "[encoded data removed]",
            "text/plain": [
              "<Figure size 1000x600 with 1 Axes>"
            ]
          },
          "metadata": {},
          "output_type": "display_data"
        }
      ],
      "source": [
        "plt.figure(figsize=(10, 6))\n",
        "sns.boxplot(x='Aggregate rating', y='Average Cost for two', data=merged_df)\n",
        "plt.title(\"Does Rating Influence Cost?\")\n",
        "plt.xlabel(\"Aggregate Rating\")\n",
        "plt.ylabel(\"Average Cost for Two\")\n",
        "plt.show()"
      ]
    },
    {
      "cell_type": "code",
      "execution_count": null,
      "id": "9277def3-2404-40f6-80af-dbc4011410b1",
      "metadata": {
        "id": "9277def3-2404-40f6-80af-dbc4011410b1",
        "outputId": "d1063aa3-6916-4236-9ad4-7a2edf54cb61"
      },
      "outputs": [
        {
          "data": {
            "image/png": "[encoded data removed]",
            "text/plain": [
              "<Figure size 800x800 with 1 Axes>"
            ]
          },
          "metadata": {},
          "output_type": "display_data"
        }
      ],
      "source": [
        "top_cities = merged_df['City'].value_counts().head(5)\n",
        "plt.figure(figsize=(8, 8))\n",
        "plt.pie(top_cities, labels=top_cities.index, autopct='%1.1f%%', startangle=140)\n",
        "plt.title(\"Top 5 Cities by Restaurant Share\")\n",
        "plt.axis('equal')\n",
        "plt.show()"
      ]
    },
    {
      "cell_type": "code",
      "execution_count": null,
      "id": "34e544cf-1831-4624-9db7-43fb906de6a2",
      "metadata": {
        "id": "34e544cf-1831-4624-9db7-43fb906de6a2",
        "outputId": "32f6ecb3-541f-43fd-9bbc-7f696c973822"
      },
      "outputs": [
        {
          "data": {
            "image/png": "[encoded data removed]",
            "text/plain": [
              "<Figure size 800x800 with 1 Axes>"
            ]
          },
          "metadata": {},
          "output_type": "display_data"
        }
      ],
      "source": [
        "india_df = merged_df[merged_df['Country'] == 'India']\n",
        "india_cuisines = india_df['Cuisines'].value_counts().head(5)\n",
        "\n",
        "plt.figure(figsize=(8, 8))\n",
        "plt.pie(india_cuisines, labels=india_cuisines.index, autopct='%1.1f%%', startangle=140)\n",
        "plt.title(\"Top 5 Cuisines in Indian Restaurants\")\n",
        "plt.axis('equal')\n",
        "plt.show()"
      ]
    },
    {
      "cell_type": "code",
      "execution_count": null,
      "id": "daebf611-a7b6-45b6-9557-fa479205acc9",
      "metadata": {
        "id": "daebf611-a7b6-45b6-9557-fa479205acc9"
      },
      "outputs": [],
      "source": []
    }
  ],
  "metadata": {
    "kernelspec": {
      "display_name": "Python [conda env:base] *",
      "language": "python",
      "name": "conda-base-py"
    },
    "language_info": {
      "codemirror_mode": {
        "name": "ipython",
        "version": 3
      },
      "file_extension": ".py",
      "mimetype": "text/x-python",
      "name": "python",
      "nbconvert_exporter": "python",
      "pygments_lexer": "ipython3",
      "version": "3.12.7"
    },
    "colab": {
      "provenance": [],
      "include_colab_link": true
    }
  },
  "nbformat": 4,
  "nbformat_minor": 5
}